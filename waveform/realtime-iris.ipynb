{
 "cells": [
  {
   "cell_type": "code",
   "execution_count": 188,
   "id": "detailed-backing",
   "metadata": {},
   "outputs": [],
   "source": [
    "import pandas as pd\n",
    "import matplotlib.pyplot as plt\n",
    "import threading\n",
    "import obspy\n",
    "from obspy.clients.seedlink.easyseedlink import create_client, EasySeedLinkClient"
   ]
  },
  {
   "cell_type": "markdown",
   "id": "given-height",
   "metadata": {},
   "source": [
    "## realtime station information\n",
    "http://ds.iris.edu/gmap/#network=_REALTIME&starttime=2021-03-01&datacenter=IRISDMC&networktype=permanent&planet=earth\n",
    "\n",
    "http://ds.iris.edu/gmap/#network=_REALTIME&channel=HH*&starttime=2021-03-01&datacenter=IRISDMC&networktype=permanent&planet=earth"
   ]
  },
  {
   "cell_type": "code",
   "execution_count": 189,
   "id": "devoted-karma",
   "metadata": {},
   "outputs": [],
   "source": [
    "import obspy\n",
    "import os\n",
    "import pickle\n",
    "import datetime\n",
    "import numpy as np\n",
    "\n",
    "pi = 3.1415926\n",
    "degree2km = pi*6371/180\n",
    "\n",
    "## Location\n",
    "# center = (-115.53, 32.98) #salton sea\n",
    "# center = (-117.504, 35.705) #ridgecrest\n",
    "center = (-155.32, 19.39) #havaii\n",
    "horizontal_degree = 2.0\n",
    "vertical_degree = 2.0\n",
    "\n",
    "## Time range\n",
    "#     starttime = obspy.UTCDateTime(\"2020-10-01T00\") #salton sea\n",
    "#     endtime = obspy.UTCDateTime(\"2020-10-03T00\") ## not included\n",
    "starttime = obspy.UTCDateTime(\"2021-04-05T00\") #ridgecrest\n",
    "endtime = obspy.UTCDateTime(\"2021-04-06T00\") ## not included\n",
    "\n",
    "## seismic stations\n",
    "network_list = [\"HV\", \"PT\"]\n",
    "# channel_list = \"HHE,HHN,HHZ,BHE,BHN,BHZ,EHE,EHN,EHZ\"\n",
    "channel_list = \"HH*,BH*,EH*\"\n",
    "# channel_list = \"HHE,HHN,HHZ\"\n",
    "\n",
    "## data center\n",
    "client = \"IRIS\"\n",
    "\n",
    "####### save config ########\n",
    "config = {}\n",
    "config[\"center\"] = center\n",
    "config[\"xlim_degree\"] = [center[0]-horizontal_degree/2, center[0]+horizontal_degree/2]\n",
    "config[\"ylim_degree\"] = [center[1]-vertical_degree/2, center[1]+vertical_degree/2]\n",
    "config[\"degree2km\"] = degree2km\n",
    "config[\"starttime\"] = starttime.datetime\n",
    "config[\"endtime\"] = endtime.datetime\n",
    "config[\"networks\"] = network_list\n",
    "config[\"channels\"] = channel_list\n",
    "config[\"client\"] = client"
   ]
  },
  {
   "cell_type": "code",
   "execution_count": 190,
   "id": "reliable-hammer",
   "metadata": {},
   "outputs": [
    {
     "name": "stdout",
     "output_type": "stream",
     "text": [
      "63\n"
     ]
    },
    {
     "data": {
      "text/plain": [
       "[<matplotlib.lines.Line2D at 0x7f8c07b505e0>]"
      ]
     },
     "execution_count": 190,
     "metadata": {},
     "output_type": "execute_result"
    },
    {
     "data": {
      "image/png": "[encoded data removed]",
      "text/plain": [
       "<Figure size 432x288 with 1 Axes>"
      ]
     },
     "metadata": {
      "needs_background": "light"
     },
     "output_type": "display_data"
    },
    {
     "data": {
      "image/png": "[encoded data removed]",
      "text/plain": [
       "<Figure size 432x288 with 1 Axes>"
      ]
     },
     "metadata": {
      "needs_background": "light"
     },
     "output_type": "display_data"
    }
   ],
   "source": [
    "stations_total = pd.read_csv(\"realtime-stations.txt\", sep=\"|\",  header=None, skiprows=3, names=[\"network\", \"station\", \"latitude\", \"longitude\", \"elevation(m)\", \"location\", \"starttime\", \"endtime\"])\n",
    "stations_total = stations_total[stations_total[\"network\"].isin(NETWORK)]\n",
    "\n",
    "plt.figure()\n",
    "plt.plot(stations_total[\"longitude\"], stations_total[\"latitude\"], '^')\n",
    "# plt.axis(\"scaled\")\n",
    "\n",
    "stations_select = stations_total[(config[\"xlim_degree\"][0] < stations_total[\"longitude\"]) & (stations_total[\"longitude\"] < config[\"xlim_degree\"][1])\\\n",
    "& (config[\"ylim_degree\"][0] < stations_total[\"latitude\"]) & (stations_total[\"latitude\"] < config[\"ylim_degree\"][1])]\n",
    "\n",
    "stations_select = stations_select.reset_index()\n",
    "print(len(stations_select))\n",
    "plt.figure()\n",
    "plt.plot(stations_select[\"longitude\"], stations_select[\"latitude\"], '^')\n",
    "# plt.axis(\"scaled\")"
   ]
  },
  {
   "cell_type": "code",
   "execution_count": 192,
   "id": "pretty-shooting",
   "metadata": {},
   "outputs": [
    {
     "name": "stdout",
     "output_type": "stream",
     "text": [
      "Number of stations: 62\n"
     ]
    },
    {
     "data": {
      "text/plain": [
       "Text(0.5, 1.0, 'Number of stations: 67')"
      ]
     },
     "execution_count": 192,
     "metadata": {},
     "output_type": "execute_result"
    },
    {
     "data": {
      "image/png": "[encoded data removed]",
      "text/plain": [
       "<Figure size 432x288 with 1 Axes>"
      ]
     },
     "metadata": {
      "needs_background": "light"
     },
     "output_type": "display_data"
    }
   ],
   "source": [
    "import pickle, os\n",
    "import obspy\n",
    "from obspy.clients.fdsn import Client\n",
    "from collections import defaultdict\n",
    "import pandas as pd\n",
    "#     import matplotlib\n",
    "#     matplotlib.use(\"agg\")\n",
    "#     import matplotlib.pyplot as plt\n",
    "\n",
    "####### Download stations ########\n",
    "stations = Client(\"IRIS\").get_stations(network = \",\".join(config[\"networks\"]),\n",
    "                                       station = \",\".join(stations_select[\"station\"]),\n",
    "                                       starttime=config[\"starttime\"],\n",
    "                                       endtime=config[\"endtime\"],\n",
    "                                       minlongitude=config[\"xlim_degree\"][0],\n",
    "                                       maxlongitude=config[\"xlim_degree\"][1],\n",
    "                                       minlatitude=config[\"ylim_degree\"][0],\n",
    "                                       maxlatitude=config[\"ylim_degree\"][1],\n",
    "                                       channel=config[\"channels\"],\n",
    "                                       level=\"response\")#,\n",
    "#                                            filename=\"stations.xml\")\n",
    "\n",
    "#     stations = obspy.read_inventory(\"stations.xml\")\n",
    "print(\"Number of stations: {}\".format(sum([len(x) for x in stations])))\n",
    "# stations.plot('local', outfile=\"stations.png\")\n",
    "# stations.plot('local')\n",
    "\n",
    "####### Save stations ########\n",
    "station_locs = defaultdict(dict)\n",
    "station_resp = defaultdict(dict)\n",
    "for network in stations:\n",
    "    for station in network:\n",
    "        for chn in station:\n",
    "            sid = f\"{network.code}.{station.code}.{chn.location_code}.{chn.code[:-1]}\"\n",
    "            station_resp[f\"{network.code}.{station.code}.{chn.location_code}.{chn.code}\"] =\\\n",
    "                chn.response.instrument_sensitivity.value\n",
    "            if sid in station_locs:\n",
    "                station_locs[sid][\"component\"] += f\",{chn.code[-1]}\"\n",
    "                station_locs[sid][\"response\"] += f\",{chn.response.instrument_sensitivity.value:.2f}\"\n",
    "            else:\n",
    "                component = f\"{chn.code[-1]}\"\n",
    "                response = f\"{chn.response.instrument_sensitivity.value:.2f}\"\n",
    "                dtype = chn.response.instrument_sensitivity.input_units.lower()\n",
    "                tmp_dict = {}\n",
    "                tmp_dict[\"longitude\"], tmp_dict[\"latitude\"], tmp_dict[\"elevation(m)\"] = chn.longitude, chn.latitude, chn.elevation\n",
    "                tmp_dict[\"component\"], tmp_dict[\"response\"], tmp_dict[\"unit\"] = component, response, dtype\n",
    "                station_locs[sid] = tmp_dict\n",
    "\n",
    "station_locs = pd.DataFrame.from_dict(station_locs, orient='index')\n",
    "station_locs.to_csv(\"stations.csv\",\n",
    "                    sep=\"\\t\", float_format=\"%.3f\",\n",
    "                    index_label=\"station\",\n",
    "                    columns=[\"longitude\", \"latitude\", \"elevation(m)\", \"unit\", \"component\", \"response\"])\n",
    "\n",
    "\n",
    "#     ####### Plot stations ########\n",
    "plt.figure()\n",
    "plt.plot(station_locs[\"longitude\"], station_locs[\"latitude\"], \"^\", label=\"Stations\")\n",
    "#     plt.plot(catalog[\"x(km)\"], catalog[\"y(km)\"], \"k.\", label=\"Earthquakes\")\n",
    "plt.xlabel(\"X (km)\")\n",
    "plt.ylabel(\"Y (km)\")\n",
    "plt.axis(\"scaled\")\n",
    "plt.legend()\n",
    "plt.title(f\"Number of stations: {len(station_locs)}\")\n",
    "#     plt.savefig(os.path.join(data_path, \"stations_loc.png\"))\n",
    "# plt.show()"
   ]
  },
  {
   "cell_type": "code",
   "execution_count": 187,
   "id": "fourth-bernard",
   "metadata": {},
   "outputs": [
    {
     "name": "stdout",
     "output_type": "stream",
     "text": [
      "Received trace: HV.ERZ4..HHE\n",
      "HV.ERZ4..HHE | 2021-04-05T22:26:12.875000Z - 2021-04-05T22:26:16.165000Z | 100.0 Hz, 330 samples\n",
      "Received trace: HV.ERZ4..HHE\n",
      "HV.ERZ4..HHE | 2021-04-05T22:26:16.175000Z - 2021-04-05T22:26:19.435000Z | 100.0 Hz, 327 samples\n",
      "Received trace: HV.ERZ4..HHE\n",
      "HV.ERZ4..HHE | 2021-04-05T22:26:19.445000Z - 2021-04-05T22:26:22.775000Z | 100.0 Hz, 334 samples\n",
      "Received trace: HV.ERZ4..HHE\n",
      "HV.ERZ4..HHE | 2021-04-05T22:26:22.785000Z - 2021-04-05T22:26:26.125000Z | 100.0 Hz, 335 samples\n",
      "Received trace: HV.ERZ4..HHE\n",
      "HV.ERZ4..HHE | 2021-04-05T22:26:26.135000Z - 2021-04-05T22:26:29.925000Z | 100.0 Hz, 380 samples\n",
      "Received trace: HV.ERZ4..HHE\n",
      "HV.ERZ4..HHE | 2021-04-05T22:26:29.935000Z - 2021-04-05T22:26:33.375000Z | 100.0 Hz, 345 samples\n",
      "Received trace: HV.ERZ4..HHE\n",
      "HV.ERZ4..HHE | 2021-04-05T22:26:33.385000Z - 2021-04-05T22:26:36.525000Z | 100.0 Hz, 315 samples\n",
      "Received trace: HV.ERZ4..HHE\n",
      "HV.ERZ4..HHE | 2021-04-05T22:26:36.535000Z - 2021-04-05T22:26:39.815000Z | 100.0 Hz, 329 samples\n",
      "Received trace: HV.ERZ4..HHE\n",
      "HV.ERZ4..HHE | 2021-04-05T22:26:39.824999Z - 2021-04-05T22:26:42.804999Z | 100.0 Hz, 299 samples\n",
      "Received trace: HV.ERZ4..HHE\n",
      "HV.ERZ4..HHE | 2021-04-05T22:26:42.815000Z - 2021-04-05T22:26:45.865000Z | 100.0 Hz, 306 samples\n",
      "Received trace: HV.ERZ4..HHE\n",
      "HV.ERZ4..HHE | 2021-04-05T22:26:45.875000Z - 2021-04-05T22:26:48.955000Z | 100.0 Hz, 309 samples\n",
      "Received trace: HV.ERZ4..HHE\n",
      "HV.ERZ4..HHE | 2021-04-05T22:26:48.965000Z - 2021-04-05T22:26:52.115000Z | 100.0 Hz, 316 samples\n",
      "Received trace: HV.HAT..HHZ\n",
      "HV.HAT..HHZ | 2021-04-05T22:26:10.735000Z - 2021-04-05T22:26:14.795000Z | 100.0 Hz, 407 samples\n",
      "Received trace: HV.HAT..HHZ\n",
      "HV.HAT..HHZ | 2021-04-05T22:26:14.805000Z - 2021-04-05T22:26:18.855000Z | 100.0 Hz, 406 samples\n",
      "Received trace: HV.HAT..HHZ\n",
      "HV.HAT..HHZ | 2021-04-05T22:26:18.865000Z - 2021-04-05T22:26:22.935000Z | 100.0 Hz, 408 samples\n",
      "Received trace: HV.HAT..HHZ\n",
      "HV.HAT..HHZ | 2021-04-05T22:26:22.945000Z - 2021-04-05T22:26:26.985000Z | 100.0 Hz, 405 samples\n",
      "Received trace: HV.HAT..HHZ\n",
      "HV.HAT..HHZ | 2021-04-05T22:26:26.995000Z - 2021-04-05T22:26:30.465000Z | 100.0 Hz, 348 samples\n",
      "Received trace: HV.HAT..HHZ\n",
      "HV.HAT..HHZ | 2021-04-05T22:26:30.475000Z - 2021-04-05T22:26:33.795000Z | 100.0 Hz, 333 samples\n",
      "Received trace: HV.HAT..HHZ\n",
      "HV.HAT..HHZ | 2021-04-05T22:26:33.805000Z - 2021-04-05T22:26:37.385000Z | 100.0 Hz, 359 samples\n",
      "Received trace: HV.HAT..HHZ\n",
      "HV.HAT..HHZ | 2021-04-05T22:26:37.395000Z - 2021-04-05T22:26:41.015000Z | 100.0 Hz, 363 samples\n",
      "Received trace: HV.HAT..HHZ\n",
      "HV.HAT..HHZ | 2021-04-05T22:26:41.025000Z - 2021-04-05T22:26:43.705000Z | 100.0 Hz, 269 samples\n",
      "Received trace: HV.HAT..HHZ\n",
      "HV.HAT..HHZ | 2021-04-05T22:26:43.715000Z - 2021-04-05T22:26:46.175000Z | 100.0 Hz, 247 samples\n",
      "Received trace: HV.HAT..HHZ\n",
      "HV.HAT..HHZ | 2021-04-05T22:26:46.185000Z - 2021-04-05T22:26:48.735000Z | 100.0 Hz, 256 samples\n",
      "Received trace: HV.HSSD..HHE\n",
      "HV.HSSD..HHE | 2021-04-05T22:26:11.310000Z - 2021-04-05T22:26:15.370000Z | 100.0 Hz, 407 samples\n",
      "Received trace: HV.HSSD..HHE\n",
      "HV.HSSD..HHE | 2021-04-05T22:26:15.380000Z - 2021-04-05T22:26:19.330000Z | 100.0 Hz, 396 samples\n",
      "Received trace: HV.HSSD..HHE\n",
      "HV.HSSD..HHE | 2021-04-05T22:26:19.340000Z - 2021-04-05T22:26:23.520000Z | 100.0 Hz, 419 samples\n",
      "Received trace: HV.HSSD..HHE\n",
      "HV.HSSD..HHE | 2021-04-05T22:26:23.530000Z - 2021-04-05T22:26:27.740000Z | 100.0 Hz, 422 samples\n",
      "Received trace: HV.HSSD..HHE\n",
      "HV.HSSD..HHE | 2021-04-05T22:26:27.750000Z - 2021-04-05T22:26:31.920000Z | 100.0 Hz, 418 samples\n",
      "Received trace: HV.HSSD..HHE\n",
      "HV.HSSD..HHE | 2021-04-05T22:26:31.930000Z - 2021-04-05T22:26:36.070000Z | 100.0 Hz, 415 samples\n",
      "Received trace: HV.HSSD..HHE\n",
      "HV.HSSD..HHE | 2021-04-05T22:26:36.080000Z - 2021-04-05T22:26:40.100000Z | 100.0 Hz, 403 samples\n",
      "Received trace: HV.HSSD..HHE\n",
      "HV.HSSD..HHE | 2021-04-05T22:26:40.110000Z - 2021-04-05T22:26:44.120000Z | 100.0 Hz, 402 samples\n",
      "Received trace: HV.HSSD..HHE\n",
      "HV.HSSD..HHE | 2021-04-05T22:26:44.130000Z - 2021-04-05T22:26:48.080000Z | 100.0 Hz, 396 samples\n",
      "Received trace: HV.HSSD..HHE\n",
      "HV.HSSD..HHE | 2021-04-05T22:26:48.090000Z - 2021-04-05T22:26:52.250000Z | 100.0 Hz, 417 samples\n",
      "Received trace: HV.HSSD..HHN\n",
      "HV.HSSD..HHN | 2021-04-05T22:26:07.230000Z - 2021-04-05T22:26:11.440000Z | 100.0 Hz, 422 samples\n",
      "Received trace: HV.HSSD..HHN\n",
      "HV.HSSD..HHN | 2021-04-05T22:26:11.450000Z - 2021-04-05T22:26:15.610000Z | 100.0 Hz, 417 samples\n",
      "Received trace: HV.HSSD..HHN\n",
      "HV.HSSD..HHN | 2021-04-05T22:26:15.620000Z - 2021-04-05T22:26:19.790000Z | 100.0 Hz, 418 samples\n",
      "Received trace: HV.HSSD..HHN\n",
      "HV.HSSD..HHN | 2021-04-05T22:26:19.800000Z - 2021-04-05T22:26:23.970000Z | 100.0 Hz, 418 samples\n",
      "Received trace: HV.HSSD..HHN\n",
      "HV.HSSD..HHN | 2021-04-05T22:26:23.980000Z - 2021-04-05T22:26:28.020000Z | 100.0 Hz, 405 samples\n",
      "Received trace: HV.HSSD..HHN\n",
      "HV.HSSD..HHN | 2021-04-05T22:26:28.030000Z - 2021-04-05T22:26:32.130000Z | 100.0 Hz, 411 samples\n",
      "Received trace: HV.HSSD..HHN\n",
      "HV.HSSD..HHN | 2021-04-05T22:26:32.140000Z - 2021-04-05T22:26:36.250000Z | 100.0 Hz, 412 samples\n",
      "Received trace: HV.HSSD..HHN\n",
      "HV.HSSD..HHN | 2021-04-05T22:26:36.260000Z - 2021-04-05T22:26:40.390000Z | 100.0 Hz, 414 samples\n",
      "Received trace: HV.HSSD..HHN\n",
      "HV.HSSD..HHN | 2021-04-05T22:26:40.400000Z - 2021-04-05T22:26:44.610000Z | 100.0 Hz, 422 samples\n",
      "Received trace: HV.JOKA..HHN\n",
      "HV.JOKA..HHN | 2021-04-05T22:26:13.645000Z - 2021-04-05T22:26:17.535000Z | 100.0 Hz, 390 samples\n",
      "Received trace: HV.JOKA..HHN\n",
      "HV.JOKA..HHN | 2021-04-05T22:26:17.545000Z - 2021-04-05T22:26:21.585000Z | 100.0 Hz, 405 samples\n",
      "Received trace: HV.JOKA..HHN\n",
      "HV.JOKA..HHN | 2021-04-05T22:26:21.595000Z - 2021-04-05T22:26:25.425000Z | 100.0 Hz, 384 samples\n",
      "Received trace: HV.JOKA..HHN\n",
      "HV.JOKA..HHN | 2021-04-05T22:26:25.435000Z - 2021-04-05T22:26:29.355000Z | 100.0 Hz, 393 samples\n",
      "Received trace: HV.JOKA..HHN\n",
      "HV.JOKA..HHN | 2021-04-05T22:26:29.365000Z - 2021-04-05T22:26:33.265000Z | 100.0 Hz, 391 samples\n",
      "Received trace: HV.JOKA..HHN\n",
      "HV.JOKA..HHN | 2021-04-05T22:26:33.275000Z - 2021-04-05T22:26:37.125000Z | 100.0 Hz, 386 samples\n",
      "Received trace: HV.JOKA..HHN\n",
      "HV.JOKA..HHN | 2021-04-05T22:26:37.135000Z - 2021-04-05T22:26:40.915000Z | 100.0 Hz, 379 samples\n",
      "Received trace: HV.JOKA..HHN\n",
      "HV.JOKA..HHN | 2021-04-05T22:26:40.925000Z - 2021-04-05T22:26:44.885000Z | 100.0 Hz, 397 samples\n",
      "Received trace: HV.JOKA..HHN\n",
      "HV.JOKA..HHN | 2021-04-05T22:26:44.895000Z - 2021-04-05T22:26:48.675000Z | 100.0 Hz, 379 samples\n",
      "Received trace: HV.MOKD..HHN\n",
      "HV.MOKD..HHN | 2021-04-05T22:26:11.780000Z - 2021-04-05T22:26:15.300000Z | 100.0 Hz, 353 samples\n",
      "Received trace: HV.MOKD..HHN\n",
      "HV.MOKD..HHN | 2021-04-05T22:26:15.310000Z - 2021-04-05T22:26:18.580000Z | 100.0 Hz, 328 samples\n",
      "Received trace: HV.MOKD..HHN\n",
      "HV.MOKD..HHN | 2021-04-05T22:26:18.590000Z - 2021-04-05T22:26:22.070000Z | 100.0 Hz, 349 samples\n",
      "Received trace: HV.MOKD..HHN\n",
      "HV.MOKD..HHN | 2021-04-05T22:26:22.080000Z - 2021-04-05T22:26:25.550000Z | 100.0 Hz, 348 samples\n",
      "Received trace: HV.MOKD..HHN\n",
      "HV.MOKD..HHN | 2021-04-05T22:26:25.560000Z - 2021-04-05T22:26:28.780000Z | 100.0 Hz, 323 samples\n",
      "Received trace: HV.MOKD..HHN\n",
      "HV.MOKD..HHN | 2021-04-05T22:26:28.790000Z - 2021-04-05T22:26:32.230000Z | 100.0 Hz, 345 samples\n",
      "Received trace: HV.MOKD..HHN\n",
      "HV.MOKD..HHN | 2021-04-05T22:26:32.240000Z - 2021-04-05T22:26:35.890000Z | 100.0 Hz, 366 samples\n",
      "Received trace: HV.MOKD..HHN\n",
      "HV.MOKD..HHN | 2021-04-05T22:26:35.900000Z - 2021-04-05T22:26:39.650000Z | 100.0 Hz, 376 samples\n",
      "Received trace: HV.MOKD..HHN\n",
      "HV.MOKD..HHN | 2021-04-05T22:26:39.660000Z - 2021-04-05T22:26:43.320000Z | 100.0 Hz, 367 samples\n",
      "Received trace: HV.MOKD..HHN\n",
      "HV.MOKD..HHN | 2021-04-05T22:26:43.330000Z - 2021-04-05T22:26:47.030000Z | 100.0 Hz, 371 samples\n",
      "Received trace: HV.MOKD..HHN\n",
      "HV.MOKD..HHN | 2021-04-05T22:26:47.040000Z - 2021-04-05T22:26:50.720000Z | 100.0 Hz, 369 samples\n",
      "Received trace: HV.MLOD..HHN\n",
      "HV.MLOD..HHN | 2021-04-05T22:26:03.310000Z - 2021-04-05T22:26:06.670000Z | 100.0 Hz, 337 samples\n",
      "Received trace: HV.MLOD..HHN\n",
      "HV.MLOD..HHN | 2021-04-05T22:26:06.680000Z - 2021-04-05T22:26:09.990000Z | 100.0 Hz, 332 samples\n",
      "Received trace: HV.MLOD..HHN\n",
      "HV.MLOD..HHN | 2021-04-05T22:26:10.000000Z - 2021-04-05T22:26:13.130000Z | 100.0 Hz, 314 samples\n",
      "Received trace: HV.MLOD..HHN\n",
      "HV.MLOD..HHN | 2021-04-05T22:26:13.140000Z - 2021-04-05T22:26:16.230000Z | 100.0 Hz, 310 samples\n",
      "Received trace: HV.MLOD..HHN\n",
      "HV.MLOD..HHN | 2021-04-05T22:26:16.240000Z - 2021-04-05T22:26:19.380000Z | 100.0 Hz, 315 samples\n",
      "Received trace: HV.MLOD..HHN\n",
      "HV.MLOD..HHN | 2021-04-05T22:26:19.390000Z - 2021-04-05T22:26:22.750000Z | 100.0 Hz, 337 samples\n",
      "Received trace: HV.MLOD..HHN\n",
      "HV.MLOD..HHN | 2021-04-05T22:26:22.760000Z - 2021-04-05T22:26:26.090000Z | 100.0 Hz, 334 samples\n",
      "Received trace: HV.MLOD..HHN\n",
      "HV.MLOD..HHN | 2021-04-05T22:26:26.100000Z - 2021-04-05T22:26:29.540000Z | 100.0 Hz, 345 samples\n",
      "Received trace: HV.MLOD..HHN\n",
      "HV.MLOD..HHN | 2021-04-05T22:26:29.550000Z - 2021-04-05T22:26:32.810000Z | 100.0 Hz, 327 samples\n",
      "Received trace: HV.MLOD..HHN\n",
      "HV.MLOD..HHN | 2021-04-05T22:26:32.820000Z - 2021-04-05T22:26:35.980000Z | 100.0 Hz, 317 samples\n",
      "Received trace: HV.MLOD..HHN\n",
      "HV.MLOD..HHN | 2021-04-05T22:26:35.990000Z - 2021-04-05T22:26:39.350000Z | 100.0 Hz, 337 samples\n"
     ]
    },
    {
     "ename": "KeyboardInterrupt",
     "evalue": "",
     "output_type": "error",
     "traceback": [
      "\u001b[0;31m---------------------------------------------------------------------------\u001b[0m",
      "\u001b[0;31mKeyboardInterrupt\u001b[0m                         Traceback (most recent call last)",
      "\u001b[0;32m<ipython-input-187-d479ced87a84>\u001b[0m in \u001b[0;36m<module>\u001b[0;34m\u001b[0m\n\u001b[1;32m      9\u001b[0m     \u001b[0mx\u001b[0m \u001b[0;34m=\u001b[0m \u001b[0mx\u001b[0m\u001b[0;34m.\u001b[0m\u001b[0msplit\u001b[0m\u001b[0;34m(\u001b[0m\u001b[0;34m\".\"\u001b[0m\u001b[0;34m)\u001b[0m\u001b[0;34m\u001b[0m\u001b[0;34m\u001b[0m\u001b[0m\n\u001b[1;32m     10\u001b[0m     \u001b[0mclient\u001b[0m\u001b[0;34m.\u001b[0m\u001b[0mselect_stream\u001b[0m\u001b[0;34m(\u001b[0m\u001b[0mx\u001b[0m\u001b[0;34m[\u001b[0m\u001b[0;36m0\u001b[0m\u001b[0;34m]\u001b[0m\u001b[0;34m,\u001b[0m \u001b[0mx\u001b[0m\u001b[0;34m[\u001b[0m\u001b[0;36m1\u001b[0m\u001b[0;34m]\u001b[0m\u001b[0;34m,\u001b[0m \u001b[0mx\u001b[0m\u001b[0;34m[\u001b[0m\u001b[0;34m-\u001b[0m\u001b[0;36m1\u001b[0m\u001b[0;34m]\u001b[0m\u001b[0;34m+\u001b[0m\u001b[0;34m\"?\"\u001b[0m\u001b[0;34m)\u001b[0m\u001b[0;34m\u001b[0m\u001b[0;34m\u001b[0m\u001b[0m\n\u001b[0;32m---> 11\u001b[0;31m \u001b[0mclient\u001b[0m\u001b[0;34m.\u001b[0m\u001b[0mrun\u001b[0m\u001b[0;34m(\u001b[0m\u001b[0;34m)\u001b[0m\u001b[0;34m\u001b[0m\u001b[0;34m\u001b[0m\u001b[0m\n\u001b[0m",
      "\u001b[0;32m~/.local/miniconda3/lib/python3.8/site-packages/obspy/clients/seedlink/easyseedlink.py\u001b[0m in \u001b[0;36mrun\u001b[0;34m(self)\u001b[0m\n\u001b[1;32m    403\u001b[0m         \u001b[0;31m# Start the collection loop\u001b[0m\u001b[0;34m\u001b[0m\u001b[0;34m\u001b[0m\u001b[0;34m\u001b[0m\u001b[0m\n\u001b[1;32m    404\u001b[0m         \u001b[0;32mwhile\u001b[0m \u001b[0;32mTrue\u001b[0m\u001b[0;34m:\u001b[0m\u001b[0;34m\u001b[0m\u001b[0;34m\u001b[0m\u001b[0m\n\u001b[0;32m--> 405\u001b[0;31m             \u001b[0mdata\u001b[0m \u001b[0;34m=\u001b[0m \u001b[0mself\u001b[0m\u001b[0;34m.\u001b[0m\u001b[0mconn\u001b[0m\u001b[0;34m.\u001b[0m\u001b[0mcollect\u001b[0m\u001b[0;34m(\u001b[0m\u001b[0;34m)\u001b[0m\u001b[0;34m\u001b[0m\u001b[0;34m\u001b[0m\u001b[0m\n\u001b[0m\u001b[1;32m    406\u001b[0m \u001b[0;34m\u001b[0m\u001b[0m\n\u001b[1;32m    407\u001b[0m             \u001b[0;32mif\u001b[0m \u001b[0mdata\u001b[0m \u001b[0;34m==\u001b[0m \u001b[0mSLPacket\u001b[0m\u001b[0;34m.\u001b[0m\u001b[0mSLTERMINATE\u001b[0m\u001b[0;34m:\u001b[0m\u001b[0;34m\u001b[0m\u001b[0;34m\u001b[0m\u001b[0m\n",
      "\u001b[0;32m~/.local/miniconda3/lib/python3.8/site-packages/obspy/clients/seedlink/client/seedlinkconnection.py\u001b[0m in \u001b[0;36mcollect\u001b[0;34m(self)\u001b[0m\n\u001b[1;32m    966\u001b[0m                 \u001b[0mbytesread\u001b[0m \u001b[0;34m=\u001b[0m \u001b[0;32mNone\u001b[0m\u001b[0;34m\u001b[0m\u001b[0;34m\u001b[0m\u001b[0m\n\u001b[1;32m    967\u001b[0m                 \u001b[0;32mtry\u001b[0m\u001b[0;34m:\u001b[0m\u001b[0;34m\u001b[0m\u001b[0;34m\u001b[0m\u001b[0m\n\u001b[0;32m--> 968\u001b[0;31m                     bytesread = self.receive_data(self.state.bytes_remaining(),\n\u001b[0m\u001b[1;32m    969\u001b[0m                                                   self.sladdr)\n\u001b[1;32m    970\u001b[0m                 \u001b[0;32mexcept\u001b[0m \u001b[0mIOError\u001b[0m \u001b[0;32mas\u001b[0m \u001b[0mioe\u001b[0m\u001b[0;34m:\u001b[0m\u001b[0;34m\u001b[0m\u001b[0;34m\u001b[0m\u001b[0m\n",
      "\u001b[0;32m~/.local/miniconda3/lib/python3.8/site-packages/obspy/clients/seedlink/client/seedlinkconnection.py\u001b[0m in \u001b[0;36mreceive_data\u001b[0;34m(self, maxbytes, code)\u001b[0m\n\u001b[1;32m   1204\u001b[0m         \u001b[0;32mtry\u001b[0m\u001b[0;34m:\u001b[0m\u001b[0;34m\u001b[0m\u001b[0;34m\u001b[0m\u001b[0m\n\u001b[1;32m   1205\u001b[0m             \u001b[0;31m# self.socket.setblocking(0)\u001b[0m\u001b[0;34m\u001b[0m\u001b[0;34m\u001b[0m\u001b[0;34m\u001b[0m\u001b[0m\n\u001b[0;32m-> 1206\u001b[0;31m             \u001b[0mbytesread\u001b[0m \u001b[0;34m=\u001b[0m \u001b[0mself\u001b[0m\u001b[0;34m.\u001b[0m\u001b[0msocket\u001b[0m\u001b[0;34m.\u001b[0m\u001b[0mrecv\u001b[0m\u001b[0;34m(\u001b[0m\u001b[0mmaxbytes\u001b[0m\u001b[0;34m)\u001b[0m\u001b[0;34m\u001b[0m\u001b[0;34m\u001b[0m\u001b[0m\n\u001b[0m\u001b[1;32m   1207\u001b[0m             \u001b[0;31m# self.socket.setblocking(1)\u001b[0m\u001b[0;34m\u001b[0m\u001b[0;34m\u001b[0m\u001b[0;34m\u001b[0m\u001b[0m\n\u001b[1;32m   1208\u001b[0m         \u001b[0;32mexcept\u001b[0m \u001b[0mIOError\u001b[0m \u001b[0;32mas\u001b[0m \u001b[0mioe\u001b[0m\u001b[0;34m:\u001b[0m\u001b[0;34m\u001b[0m\u001b[0;34m\u001b[0m\u001b[0m\n",
      "\u001b[0;31mKeyboardInterrupt\u001b[0m: "
     ]
    }
   ],
   "source": [
    "class Client(EasySeedLinkClient):\n",
    "    def on_data(self, trace):\n",
    "        print('Received trace:', trace.id)\n",
    "        print(trace)\n",
    "        value = {\"timestamp\":trace.stats.starttime.datetime.strftime(\"%Y-%m-%dT%H:%M:%S.%f\")[:-3], \"vec\":trace.data.tolist()}\n",
    "            \n",
    "client = Client('rtserve.iris.washington.edu:18000')\n",
    "for x in station_locs.index:\n",
    "    x = x.split(\".\")\n",
    "    client.select_stream(x[0], x[1], x[-1]+\"?\")\n",
    "client.run()"
   ]
  },
  {
   "cell_type": "code",
   "execution_count": null,
   "id": "conservative-george",
   "metadata": {},
   "outputs": [],
   "source": []
  }
 ],
 "metadata": {
  "kernelspec": {
   "display_name": "Python 3",
   "language": "python",
   "name": "python3"
  },
  "language_info": {
   "codemirror_mode": {
    "name": "ipython",
    "version": 3
   },
   "file_extension": ".py",
   "mimetype": "text/x-python",
   "name": "python",
   "nbconvert_exporter": "python",
   "pygments_lexer": "ipython3",
   "version": "3.8.2"
  }
 },
 "nbformat": 4,
 "nbformat_minor": 5
}
