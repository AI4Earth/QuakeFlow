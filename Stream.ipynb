{
 "cells": [
  {
   "cell_type": "markdown",
   "id": "above-sierra",
   "metadata": {},
   "source": [
    "\n",
    "# 0. Pseudo Data Generator \n",
    "\n",
    "- Output: (id, timestamp, data vec of 1s (100x3))\n",
    "\n",
    "# 1. Data Stream (? + Data Preprocessing)\n",
    "\n",
    "- Input: (id, timestamp, data vec of 1s (100x3))\n",
    "\n",
    "- Process: Data buffer (Kafka) \n",
    "\n",
    "- Output: [(id, timestamp, data vec of 30s (3000x3)), (id, timestamp, data vec of 30s (3000x3)), ... ] for every second"
   ]
  },
  {
   "cell_type": "markdown",
   "id": "bored-spokesman",
   "metadata": {},
   "source": [
    "# 2. Phase Picking\n",
    "\n",
    "- Preload: NN model of PhaseNet\n",
    "\n",
    "- Input: [(id, timestamp, data vec (3000x3)), (id, timestamp, data vec of (3000x3)), ... ]\n",
    "\n",
    "- Process: PhaseNet \n",
    "\n",
    "<!-- - Output: (id, timestamp, idx_p, prob_p, amp_p, idx_s, prob_s, amp_s) -->\n",
    "- Output: [(id, timestamp, idx(int), prob(float), amp(float), type(string)), ...]"
   ]
  },
  {
   "cell_type": "markdown",
   "id": "athletic-justice",
   "metadata": {},
   "source": [
    "# 3. Data Stream\n",
    "\n",
    "<!-- - Input: (id, timestamp, idx_p, prob_p, amp_p, idx_s, prob_s, amp_s) of overlapping 30s -->\n",
    "- Input: [(id, timestamp, idx, prob, amp, type), ...] of overlapping 30s\n",
    "\n",
    "- Process: Data buffer (Kafka) \n",
    "\n",
    "<!-- - Output: (id, timestamp, idx_p, prob_p, amp_p, idx_s, prob_s, amp_s) with no overlapping and reprot the recent 10 s. -->\n",
    "- Output: [(id, timestamp, idx, prob, amp, type), ...] with no overlapping and reprot the recent 10 s. "
   ]
  },
  {
   "cell_type": "markdown",
   "id": "mechanical-blackjack",
   "metadata": {},
   "source": [
    "# 4. Association\n",
    "\n",
    "- Preload: csv file of seismic station information (id, latitude, longitude, elevation)\n",
    "\n",
    "<!-- - Input: (id, timestamp, idx_p, prob_p, amp_p, idx_s, prob_s, amp_s) -->\n",
    "- Input: [(id, timestamp, idx, prob, amp, type), ...]\n",
    "\n",
    "- Process: GMMA\n",
    "\n",
    "- Output: [(timestamp, latitude, longtidue, depth, magnitude), ...] of earthquakes"
   ]
  },
  {
   "cell_type": "markdown",
   "id": "greater-nation",
   "metadata": {},
   "source": [
    "# 5. Data Stream\n",
    "\n",
    "- Input: [(timestamp, latitude, longtidue, depth, magnitude), ...]\n",
    "\n",
    "- Process: Data buffer (Kafka) \n",
    "\n",
    "- Output: [(timestamp, latitude, longtidue, depth, magnitude), ...]"
   ]
  },
  {
   "cell_type": "markdown",
   "id": "developed-surface",
   "metadata": {},
   "source": [
    "# 6. Visulization and Notification\n",
    "\n",
    "- Input: [(timestamp, latitude, longtidue, depth, magnitude), ...] of earthquakes\n",
    "\n",
    "- WebUI + Twitter Bot"
   ]
  },
  {
   "cell_type": "markdown",
   "id": "fresh-gateway",
   "metadata": {},
   "source": [
    "## Code:"
   ]
  },
  {
   "cell_type": "markdown",
   "id": "interim-variable",
   "metadata": {},
   "source": [
    "## 1. Data"
   ]
  },
  {
   "cell_type": "code",
   "execution_count": 93,
   "id": "better-lawsuit",
   "metadata": {},
   "outputs": [],
   "source": [
    "import obspy\n",
    "import pandas as pd\n",
    "import os\n",
    "import datetime\n",
    "import numpy as np\n",
    "import time"
   ]
  },
  {
   "cell_type": "code",
   "execution_count": 52,
   "id": "finished-stanford",
   "metadata": {},
   "outputs": [],
   "source": [
    "waveform_path = \"./data/waveforms\"\n",
    "fnames = pd.read_csv(\"fname.csv\")\n",
    "stations = pd.read_csv(\"stations.csv\", sep=\"\\t\")"
   ]
  },
  {
   "cell_type": "code",
   "execution_count": 98,
   "id": "extended-theater",
   "metadata": {},
   "outputs": [
    {
     "name": "stdout",
     "output_type": "stream",
     "text": [
      "2020-10-01T00.mseed\n",
      "CI.BOM..HH 2020-10-01T00:00:00.003 (100, 3)\n",
      "CI.COA..HH 2020-10-01T00:00:00.003 (100, 3)\n",
      "CI.CRR..HH 2020-10-01T00:00:00.003 (100, 3)\n",
      "CI.DRE..HH 2020-10-01T00:00:00.003 (100, 3)\n",
      "CI.ERR..HH 2020-10-01T00:00:00.003 (100, 3)\n",
      "CI.FRK..HH 2020-10-01T00:00:00.003 (100, 3)\n",
      "CI.IMP..HH 2020-10-01T00:00:00.003 (100, 3)\n",
      "CI.RXH..HH 2020-10-01T00:00:00.003 (100, 3)\n",
      "CI.SAL..HH 2020-10-01T00:00:00.003 (100, 3)\n",
      "CI.SGL..HH 2020-10-01T00:00:00.003 (100, 3)\n",
      "CI.SLV..HH 2020-10-01T00:00:00.003 (100, 3)\n",
      "CI.SNR..HH 2020-10-01T00:00:00.003 (100, 3)\n",
      "CI.SWS..HH 2020-10-01T00:00:00.003 (100, 3)\n",
      "CI.WES..HH 2020-10-01T00:00:00.003 (100, 3)\n",
      "CI.WMD..HH 2020-10-01T00:00:00.003 (100, 3)\n",
      "CI.YUH2..HH 2020-10-01T00:00:00.003 (100, 3)\n",
      "CI.BOM..HH 2020-10-01T00:00:01.003 (100, 3)\n",
      "CI.COA..HH 2020-10-01T00:00:01.003 (100, 3)\n",
      "CI.CRR..HH 2020-10-01T00:00:01.003 (100, 3)\n",
      "CI.DRE..HH 2020-10-01T00:00:01.003 (100, 3)\n",
      "CI.ERR..HH 2020-10-01T00:00:01.003 (100, 3)\n",
      "CI.FRK..HH 2020-10-01T00:00:01.003 (100, 3)\n",
      "CI.IMP..HH 2020-10-01T00:00:01.003 (100, 3)\n",
      "CI.RXH..HH 2020-10-01T00:00:01.003 (100, 3)\n",
      "CI.SAL..HH 2020-10-01T00:00:01.003 (100, 3)\n",
      "CI.SGL..HH 2020-10-01T00:00:01.003 (100, 3)\n",
      "CI.SLV..HH 2020-10-01T00:00:01.003 (100, 3)\n",
      "CI.SNR..HH 2020-10-01T00:00:01.003 (100, 3)\n",
      "CI.SWS..HH 2020-10-01T00:00:01.003 (100, 3)\n",
      "CI.WES..HH 2020-10-01T00:00:01.003 (100, 3)\n",
      "CI.WMD..HH 2020-10-01T00:00:01.003 (100, 3)\n",
      "CI.YUH2..HH 2020-10-01T00:00:01.003 (100, 3)\n",
      "CI.BOM..HH 2020-10-01T00:00:02.003 (100, 3)\n",
      "CI.COA..HH 2020-10-01T00:00:02.003 (100, 3)\n",
      "CI.CRR..HH 2020-10-01T00:00:02.003 (100, 3)\n",
      "CI.DRE..HH 2020-10-01T00:00:02.003 (100, 3)\n",
      "CI.ERR..HH 2020-10-01T00:00:02.003 (100, 3)\n",
      "CI.FRK..HH 2020-10-01T00:00:02.003 (100, 3)\n",
      "CI.IMP..HH 2020-10-01T00:00:02.003 (100, 3)\n",
      "CI.RXH..HH 2020-10-01T00:00:02.003 (100, 3)\n",
      "CI.SAL..HH 2020-10-01T00:00:02.003 (100, 3)\n",
      "CI.SGL..HH 2020-10-01T00:00:02.003 (100, 3)\n",
      "CI.SLV..HH 2020-10-01T00:00:02.003 (100, 3)\n",
      "CI.SNR..HH 2020-10-01T00:00:02.003 (100, 3)\n",
      "CI.SWS..HH 2020-10-01T00:00:02.003 (100, 3)\n",
      "CI.WES..HH 2020-10-01T00:00:02.003 (100, 3)\n",
      "CI.WMD..HH 2020-10-01T00:00:02.003 (100, 3)\n",
      "CI.YUH2..HH 2020-10-01T00:00:02.003 (100, 3)\n",
      "CI.BOM..HH 2020-10-01T00:00:03.003 (100, 3)\n",
      "CI.COA..HH 2020-10-01T00:00:03.003 (100, 3)\n",
      "CI.CRR..HH 2020-10-01T00:00:03.003 (100, 3)\n",
      "CI.DRE..HH 2020-10-01T00:00:03.003 (100, 3)\n",
      "CI.ERR..HH 2020-10-01T00:00:03.003 (100, 3)\n",
      "CI.FRK..HH 2020-10-01T00:00:03.003 (100, 3)\n",
      "CI.IMP..HH 2020-10-01T00:00:03.003 (100, 3)\n",
      "CI.RXH..HH 2020-10-01T00:00:03.003 (100, 3)\n",
      "CI.SAL..HH 2020-10-01T00:00:03.003 (100, 3)\n",
      "CI.SGL..HH 2020-10-01T00:00:03.003 (100, 3)\n",
      "CI.SLV..HH 2020-10-01T00:00:03.003 (100, 3)\n",
      "CI.SNR..HH 2020-10-01T00:00:03.003 (100, 3)\n",
      "CI.SWS..HH 2020-10-01T00:00:03.003 (100, 3)\n",
      "CI.WES..HH 2020-10-01T00:00:03.003 (100, 3)\n",
      "CI.WMD..HH 2020-10-01T00:00:03.003 (100, 3)\n",
      "CI.YUH2..HH 2020-10-01T00:00:03.003 (100, 3)\n"
     ]
    },
    {
     "ename": "RuntimeError",
     "evalue": "No active exception to reraise",
     "output_type": "error",
     "traceback": [
      "\u001b[0;31m---------------------------------------------------------------------------\u001b[0m",
      "\u001b[0;31mRuntimeError\u001b[0m                              Traceback (most recent call last)",
      "\u001b[0;32m<ipython-input-98-34e2945180e7>\u001b[0m in \u001b[0;36m<module>\u001b[0;34m\u001b[0m\n\u001b[1;32m     30\u001b[0m         \u001b[0mtime\u001b[0m\u001b[0;34m.\u001b[0m\u001b[0msleep\u001b[0m\u001b[0;34m(\u001b[0m\u001b[0;36m1\u001b[0m\u001b[0;34m)\u001b[0m\u001b[0;34m\u001b[0m\u001b[0;34m\u001b[0m\u001b[0m\n\u001b[1;32m     31\u001b[0m         \u001b[0;32mif\u001b[0m \u001b[0midx\u001b[0m \u001b[0;34m>\u001b[0m \u001b[0;36m3\u001b[0m\u001b[0;34m*\u001b[0m\u001b[0mwindow_size\u001b[0m\u001b[0;34m:\u001b[0m\u001b[0;34m\u001b[0m\u001b[0;34m\u001b[0m\u001b[0m\n\u001b[0;32m---> 32\u001b[0;31m             \u001b[0;32mraise\u001b[0m\u001b[0;34m\u001b[0m\u001b[0;34m\u001b[0m\u001b[0m\n\u001b[0m",
      "\u001b[0;31mRuntimeError\u001b[0m: No active exception to reraise"
     ]
    }
   ],
   "source": [
    "window_size = 100\n",
    "sampling_rate = 100\n",
    "dtype = \"float32\"\n",
    "timestamp = lambda x: x.strftime(\"%Y-%m-%dT%H:%M:%S.%f\")[:-3]\n",
    "\n",
    "for i, row in fnames.iterrows():\n",
    "    print(row.loc[\"fname\"])\n",
    "    meta = obspy.read(os.path.join(waveform_path, row.loc[\"fname\"]))\n",
    "    assert(meta[0].stats.sampling_rate == sampling_rate)\n",
    "    meta = meta.merge(fill_value=0)\n",
    "    start_time = min([st.stats.starttime for st in meta])\n",
    "    end_time = max([st.stats.endtime for st in meta])\n",
    "    meta = meta.trim(start_time, end_time, pad=True, fill_value=0)\n",
    "    num_station = len(stations)\n",
    "    nt = len(meta[0].data)\n",
    "    data = np.zeros([num_station, nt, 3], dtype=dtype)\n",
    "    station_id = []\n",
    "    for i in range(num_station):\n",
    "        sta = stations.iloc[i][\"station\"]\n",
    "        station_id.append(sta)\n",
    "        comp = stations.iloc[i][\"component\"].split(\",\")\n",
    "        resp = stations.iloc[i][\"response\"].split(\",\")\n",
    "        for j in range(len(comp)):\n",
    "            data[i, :, j] = meta.select(id=sta+comp[j])[0].data.astype(dtype) / float(resp[j])\n",
    "    idx = 0\n",
    "    while idx < nt:\n",
    "        for i in range(num_station):\n",
    "            print (station_id[i], timestamp(start_time+idx/sampling_rate), data[i, idx:idx+window_size, :].shape)\n",
    "        idx += window_size\n",
    "        time.sleep(1)\n",
    "        if idx > 3*window_size:\n",
    "            raise"
   ]
  },
  {
   "cell_type": "code",
   "execution_count": null,
   "id": "capital-jacob",
   "metadata": {},
   "outputs": [],
   "source": []
  }
 ],
 "metadata": {
  "kernelspec": {
   "display_name": "Python 3",
   "language": "python",
   "name": "python3"
  },
  "language_info": {
   "codemirror_mode": {
    "name": "ipython",
    "version": 3
   },
   "file_extension": ".py",
   "mimetype": "text/x-python",
   "name": "python",
   "nbconvert_exporter": "python",
   "pygments_lexer": "ipython3",
   "version": "3.8.2"
  }
 },
 "nbformat": 4,
 "nbformat_minor": 5
}
