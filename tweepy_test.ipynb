{
 "cells": [
  {
   "cell_type": "code",
   "execution_count": 6,
   "id": "coastal-cholesterol",
   "metadata": {},
   "outputs": [],
   "source": [
    "import os\n",
    "import tweepy\n",
    "import logging"
   ]
  },
  {
   "cell_type": "code",
   "execution_count": 3,
   "id": "hearing-antique",
   "metadata": {},
   "outputs": [
    {
     "data": {
      "text/plain": [
       "'/home/avoy/anaconda3/envs/new_cs329s/bin/python'"
      ]
     },
     "execution_count": 3,
     "metadata": {},
     "output_type": "execute_result"
    }
   ],
   "source": [
    "import sys; sys.executable"
   ]
  },
  {
   "cell_type": "markdown",
   "id": "blond-bumper",
   "metadata": {},
   "source": [
    "### Load access credentials to bot"
   ]
  },
  {
   "cell_type": "code",
   "execution_count": 4,
   "id": "logical-quarterly",
   "metadata": {},
   "outputs": [
    {
     "name": "stdout",
     "output_type": "stream",
     "text": [
      "khM2jM2bVICVkrKrlAfVgg9Le\n",
      "8On5xMinEtJewzWr7cPmELzCBIbgR8CxGB4ay2dt75wyeEPjvM\n",
      "1370235376275578885-3kI44eWHzfOkmxs478PmqPABaM8SHw\n",
      "vmKIPzSHHNyrTyjC4xpbGgQYggV0HOg1H5P45mrPp8BLe\n"
     ]
    }
   ],
   "source": [
    "consumer_key = os.getenv('CONSUMER_KEY')\n",
    "consumer_secret = os.getenv('CONSUMER_SECRET')\n",
    "access_token = os.getenv('ACCESS_TOKEN')\n",
    "access_token_secret = os.getenv('ACCESS_TOKEN_SECRET')\n",
    "print(consumer_key)\n",
    "print(consumer_secret)\n",
    "print(access_token)\n",
    "print(access_token_secret)\n"
   ]
  },
  {
   "cell_type": "code",
   "execution_count": 7,
   "id": "absolute-doctrine",
   "metadata": {},
   "outputs": [],
   "source": [
    "logger = logging.getLogger()\n",
    "\n",
    "def create_api():\n",
    "    consumer_key = os.getenv(\"CONSUMER_KEY\")\n",
    "    consumer_secret = os.getenv(\"CONSUMER_SECRET\")\n",
    "    access_token = os.getenv(\"ACCESS_TOKEN\")\n",
    "    access_token_secret = os.getenv(\"ACCESS_TOKEN_SECRET\")\n",
    "\n",
    "    auth = tweepy.OAuthHandler(consumer_key, consumer_secret)\n",
    "    auth.set_access_token(access_token, access_token_secret)\n",
    "    api = tweepy.API(auth, wait_on_rate_limit=True, \n",
    "        wait_on_rate_limit_notify=True)\n",
    "    try:\n",
    "        api.verify_credentials()\n",
    "    except Exception as e:\n",
    "        logger.error(\"Error creating API\", exc_info=True)\n",
    "        raise e\n",
    "    logger.info(\"API created\")\n",
    "    return api\n"
   ]
  },
  {
   "cell_type": "code",
   "execution_count": 9,
   "id": "fifth-surveillance",
   "metadata": {},
   "outputs": [],
   "source": [
    "api = create_api()\n"
   ]
  },
  {
   "cell_type": "code",
   "execution_count": 10,
   "id": "afraid-segment",
   "metadata": {
    "collapsed": true,
    "jupyter": {
     "outputs_hidden": true
    },
    "tags": []
   },
   "outputs": [
    {
     "data": {
      "text/plain": [
       "Status(_api=<tweepy.api.API object at 0x7fb41c4d6550>, _json={'created_at': 'Fri Mar 12 22:38:34 +0000 2021', 'id': 1370504518895497218, 'id_str': '1370504518895497218', 'text': 'Earthquake at (0, 0)', 'truncated': False, 'entities': {'hashtags': [], 'symbols': [], 'user_mentions': [], 'urls': []}, 'source': '', 'in_reply_to_status_id': None, 'in_reply_to_status_id_str': None, 'in_reply_to_user_id': None, 'in_reply_to_user_id_str': None, 'in_reply_to_screen_name': None, 'user': {'id': 1370235376275578885, 'id_str': '1370235376275578885', 'name': 'QuakeFlow', 'screen_name': 'QuakeFlow_bot', 'location': '', 'description': 'QuakeFlow Project', 'url': None, 'entities': {'description': {'urls': []}}, 'protected': False, 'followers_count': 0, 'friends_count': 0, 'listed_count': 0, 'created_at': 'Fri Mar 12 04:49:20 +0000 2021', 'favourites_count': 0, 'utc_offset': None, 'time_zone': None, 'geo_enabled': False, 'verified': False, 'statuses_count': 2, 'lang': None, 'contributors_enabled': False, 'is_translator': False, 'is_translation_enabled': False, 'profile_background_color': 'F5F8FA', 'profile_background_image_url': None, 'profile_background_image_url_https': None, 'profile_background_tile': False, 'profile_image_url': 'http://abs.twimg.com/sticky/default_profile_images/default_profile_normal.png', 'profile_image_url_https': 'https://abs.twimg.com/sticky/default_profile_images/default_profile_normal.png', 'profile_link_color': '1DA1F2', 'profile_sidebar_border_color': 'C0DEED', 'profile_sidebar_fill_color': 'DDEEF6', 'profile_text_color': '333333', 'profile_use_background_image': True, 'has_extended_profile': True, 'default_profile': True, 'default_profile_image': True, 'following': False, 'follow_request_sent': False, 'notifications': False, 'translator_type': 'none'}, 'geo': None, 'coordinates': None, 'place': None, 'contributors': None, 'is_quote_status': False, 'retweet_count': 0, 'favorite_count': 0, 'favorited': False, 'retweeted': False, 'lang': 'en'}, created_at=datetime.datetime(2021, 3, 12, 22, 38, 34), id=1370504518895497218, id_str='1370504518895497218', text='Earthquake at (0, 0)', truncated=False, entities={'hashtags': [], 'symbols': [], 'user_mentions': [], 'urls': []}, source='', source_url=None, in_reply_to_status_id=None, in_reply_to_status_id_str=None, in_reply_to_user_id=None, in_reply_to_user_id_str=None, in_reply_to_screen_name=None, author=User(_api=<tweepy.api.API object at 0x7fb41c4d6550>, _json={'id': 1370235376275578885, 'id_str': '1370235376275578885', 'name': 'QuakeFlow', 'screen_name': 'QuakeFlow_bot', 'location': '', 'description': 'QuakeFlow Project', 'url': None, 'entities': {'description': {'urls': []}}, 'protected': False, 'followers_count': 0, 'friends_count': 0, 'listed_count': 0, 'created_at': 'Fri Mar 12 04:49:20 +0000 2021', 'favourites_count': 0, 'utc_offset': None, 'time_zone': None, 'geo_enabled': False, 'verified': False, 'statuses_count': 2, 'lang': None, 'contributors_enabled': False, 'is_translator': False, 'is_translation_enabled': False, 'profile_background_color': 'F5F8FA', 'profile_background_image_url': None, 'profile_background_image_url_https': None, 'profile_background_tile': False, 'profile_image_url': 'http://abs.twimg.com/sticky/default_profile_images/default_profile_normal.png', 'profile_image_url_https': 'https://abs.twimg.com/sticky/default_profile_images/default_profile_normal.png', 'profile_link_color': '1DA1F2', 'profile_sidebar_border_color': 'C0DEED', 'profile_sidebar_fill_color': 'DDEEF6', 'profile_text_color': '333333', 'profile_use_background_image': True, 'has_extended_profile': True, 'default_profile': True, 'default_profile_image': True, 'following': False, 'follow_request_sent': False, 'notifications': False, 'translator_type': 'none'}, id=1370235376275578885, id_str='1370235376275578885', name='QuakeFlow', screen_name='QuakeFlow_bot', location='', description='QuakeFlow Project', url=None, entities={'description': {'urls': []}}, protected=False, followers_count=0, friends_count=0, listed_count=0, created_at=datetime.datetime(2021, 3, 12, 4, 49, 20), favourites_count=0, utc_offset=None, time_zone=None, geo_enabled=False, verified=False, statuses_count=2, lang=None, contributors_enabled=False, is_translator=False, is_translation_enabled=False, profile_background_color='F5F8FA', profile_background_image_url=None, profile_background_image_url_https=None, profile_background_tile=False, profile_image_url='http://abs.twimg.com/sticky/default_profile_images/default_profile_normal.png', profile_image_url_https='https://abs.twimg.com/sticky/default_profile_images/default_profile_normal.png', profile_link_color='1DA1F2', profile_sidebar_border_color='C0DEED', profile_sidebar_fill_color='DDEEF6', profile_text_color='333333', profile_use_background_image=True, has_extended_profile=True, default_profile=True, default_profile_image=True, following=False, follow_request_sent=False, notifications=False, translator_type='none'), user=User(_api=<tweepy.api.API object at 0x7fb41c4d6550>, _json={'id': 1370235376275578885, 'id_str': '1370235376275578885', 'name': 'QuakeFlow', 'screen_name': 'QuakeFlow_bot', 'location': '', 'description': 'QuakeFlow Project', 'url': None, 'entities': {'description': {'urls': []}}, 'protected': False, 'followers_count': 0, 'friends_count': 0, 'listed_count': 0, 'created_at': 'Fri Mar 12 04:49:20 +0000 2021', 'favourites_count': 0, 'utc_offset': None, 'time_zone': None, 'geo_enabled': False, 'verified': False, 'statuses_count': 2, 'lang': None, 'contributors_enabled': False, 'is_translator': False, 'is_translation_enabled': False, 'profile_background_color': 'F5F8FA', 'profile_background_image_url': None, 'profile_background_image_url_https': None, 'profile_background_tile': False, 'profile_image_url': 'http://abs.twimg.com/sticky/default_profile_images/default_profile_normal.png', 'profile_image_url_https': 'https://abs.twimg.com/sticky/default_profile_images/default_profile_normal.png', 'profile_link_color': '1DA1F2', 'profile_sidebar_border_color': 'C0DEED', 'profile_sidebar_fill_color': 'DDEEF6', 'profile_text_color': '333333', 'profile_use_background_image': True, 'has_extended_profile': True, 'default_profile': True, 'default_profile_image': True, 'following': False, 'follow_request_sent': False, 'notifications': False, 'translator_type': 'none'}, id=1370235376275578885, id_str='1370235376275578885', name='QuakeFlow', screen_name='QuakeFlow_bot', location='', description='QuakeFlow Project', url=None, entities={'description': {'urls': []}}, protected=False, followers_count=0, friends_count=0, listed_count=0, created_at=datetime.datetime(2021, 3, 12, 4, 49, 20), favourites_count=0, utc_offset=None, time_zone=None, geo_enabled=False, verified=False, statuses_count=2, lang=None, contributors_enabled=False, is_translator=False, is_translation_enabled=False, profile_background_color='F5F8FA', profile_background_image_url=None, profile_background_image_url_https=None, profile_background_tile=False, profile_image_url='http://abs.twimg.com/sticky/default_profile_images/default_profile_normal.png', profile_image_url_https='https://abs.twimg.com/sticky/default_profile_images/default_profile_normal.png', profile_link_color='1DA1F2', profile_sidebar_border_color='C0DEED', profile_sidebar_fill_color='DDEEF6', profile_text_color='333333', profile_use_background_image=True, has_extended_profile=True, default_profile=True, default_profile_image=True, following=False, follow_request_sent=False, notifications=False, translator_type='none'), geo=None, coordinates=None, place=None, contributors=None, is_quote_status=False, retweet_count=0, favorite_count=0, favorited=False, retweeted=False, lang='en')"
      ]
     },
     "execution_count": 10,
     "metadata": {},
     "output_type": "execute_result"
    }
   ],
   "source": [
    "lat, lon = 0, 0\n"
   ]
  },
  {
   "cell_type": "code",
   "execution_count": 11,
   "id": "demographic-marble",
   "metadata": {},
   "outputs": [
    {
     "data": {
      "text/plain": [
       "Status(_api=<tweepy.api.API object at 0x7fb41c4d6550>, _json={'created_at': 'Fri Mar 12 22:54:54 +0000 2021', 'id': 1370508628529086464, 'id_str': '1370508628529086464', 'text': 'https://t.co/UFkqK6wQtC', 'truncated': False, 'entities': {'hashtags': [], 'symbols': [], 'user_mentions': [], 'urls': [], 'media': [{'id': 1370508627413327872, 'id_str': '1370508627413327872', 'indices': [0, 23], 'media_url': 'http://pbs.twimg.com/media/EwUGVdqUYAAX4eL.jpg', 'media_url_https': 'https://pbs.twimg.com/media/EwUGVdqUYAAX4eL.jpg', 'url': 'https://t.co/UFkqK6wQtC', 'display_url': 'pic.twitter.com/UFkqK6wQtC', 'expanded_url': 'https://twitter.com/QuakeFlow_bot/status/1370508628529086464/photo/1', 'type': 'photo', 'sizes': {'medium': {'w': 1200, 'h': 62, 'resize': 'fit'}, 'thumb': {'w': 132, 'h': 132, 'resize': 'crop'}, 'large': {'w': 2048, 'h': 106, 'resize': 'fit'}, 'small': {'w': 680, 'h': 35, 'resize': 'fit'}}}]}, 'extended_entities': {'media': [{'id': 1370508627413327872, 'id_str': '1370508627413327872', 'indices': [0, 23], 'media_url': 'http://pbs.twimg.com/media/EwUGVdqUYAAX4eL.jpg', 'media_url_https': 'https://pbs.twimg.com/media/EwUGVdqUYAAX4eL.jpg', 'url': 'https://t.co/UFkqK6wQtC', 'display_url': 'pic.twitter.com/UFkqK6wQtC', 'expanded_url': 'https://twitter.com/QuakeFlow_bot/status/1370508628529086464/photo/1', 'type': 'photo', 'sizes': {'medium': {'w': 1200, 'h': 62, 'resize': 'fit'}, 'thumb': {'w': 132, 'h': 132, 'resize': 'crop'}, 'large': {'w': 2048, 'h': 106, 'resize': 'fit'}, 'small': {'w': 680, 'h': 35, 'resize': 'fit'}}}]}, 'source': '', 'in_reply_to_status_id': None, 'in_reply_to_status_id_str': None, 'in_reply_to_user_id': None, 'in_reply_to_user_id_str': None, 'in_reply_to_screen_name': None, 'user': {'id': 1370235376275578885, 'id_str': '1370235376275578885', 'name': 'QuakeFlow', 'screen_name': 'QuakeFlow_bot', 'location': '', 'description': 'QuakeFlow Project', 'url': None, 'entities': {'description': {'urls': []}}, 'protected': False, 'followers_count': 0, 'friends_count': 0, 'listed_count': 0, 'created_at': 'Fri Mar 12 04:49:20 +0000 2021', 'favourites_count': 0, 'utc_offset': None, 'time_zone': None, 'geo_enabled': False, 'verified': False, 'statuses_count': 3, 'lang': None, 'contributors_enabled': False, 'is_translator': False, 'is_translation_enabled': False, 'profile_background_color': 'F5F8FA', 'profile_background_image_url': None, 'profile_background_image_url_https': None, 'profile_background_tile': False, 'profile_image_url': 'http://abs.twimg.com/sticky/default_profile_images/default_profile_normal.png', 'profile_image_url_https': 'https://abs.twimg.com/sticky/default_profile_images/default_profile_normal.png', 'profile_link_color': '1DA1F2', 'profile_sidebar_border_color': 'C0DEED', 'profile_sidebar_fill_color': 'DDEEF6', 'profile_text_color': '333333', 'profile_use_background_image': True, 'has_extended_profile': True, 'default_profile': True, 'default_profile_image': True, 'following': False, 'follow_request_sent': False, 'notifications': False, 'translator_type': 'none'}, 'geo': None, 'coordinates': None, 'place': None, 'contributors': None, 'is_quote_status': False, 'retweet_count': 0, 'favorite_count': 0, 'favorited': False, 'retweeted': False, 'possibly_sensitive': False, 'lang': 'und'}, created_at=datetime.datetime(2021, 3, 12, 22, 54, 54), id=1370508628529086464, id_str='1370508628529086464', text='https://t.co/UFkqK6wQtC', truncated=False, entities={'hashtags': [], 'symbols': [], 'user_mentions': [], 'urls': [], 'media': [{'id': 1370508627413327872, 'id_str': '1370508627413327872', 'indices': [0, 23], 'media_url': 'http://pbs.twimg.com/media/EwUGVdqUYAAX4eL.jpg', 'media_url_https': 'https://pbs.twimg.com/media/EwUGVdqUYAAX4eL.jpg', 'url': 'https://t.co/UFkqK6wQtC', 'display_url': 'pic.twitter.com/UFkqK6wQtC', 'expanded_url': 'https://twitter.com/QuakeFlow_bot/status/1370508628529086464/photo/1', 'type': 'photo', 'sizes': {'medium': {'w': 1200, 'h': 62, 'resize': 'fit'}, 'thumb': {'w': 132, 'h': 132, 'resize': 'crop'}, 'large': {'w': 2048, 'h': 106, 'resize': 'fit'}, 'small': {'w': 680, 'h': 35, 'resize': 'fit'}}}]}, extended_entities={'media': [{'id': 1370508627413327872, 'id_str': '1370508627413327872', 'indices': [0, 23], 'media_url': 'http://pbs.twimg.com/media/EwUGVdqUYAAX4eL.jpg', 'media_url_https': 'https://pbs.twimg.com/media/EwUGVdqUYAAX4eL.jpg', 'url': 'https://t.co/UFkqK6wQtC', 'display_url': 'pic.twitter.com/UFkqK6wQtC', 'expanded_url': 'https://twitter.com/QuakeFlow_bot/status/1370508628529086464/photo/1', 'type': 'photo', 'sizes': {'medium': {'w': 1200, 'h': 62, 'resize': 'fit'}, 'thumb': {'w': 132, 'h': 132, 'resize': 'crop'}, 'large': {'w': 2048, 'h': 106, 'resize': 'fit'}, 'small': {'w': 680, 'h': 35, 'resize': 'fit'}}}]}, source='', source_url=None, in_reply_to_status_id=None, in_reply_to_status_id_str=None, in_reply_to_user_id=None, in_reply_to_user_id_str=None, in_reply_to_screen_name=None, author=User(_api=<tweepy.api.API object at 0x7fb41c4d6550>, _json={'id': 1370235376275578885, 'id_str': '1370235376275578885', 'name': 'QuakeFlow', 'screen_name': 'QuakeFlow_bot', 'location': '', 'description': 'QuakeFlow Project', 'url': None, 'entities': {'description': {'urls': []}}, 'protected': False, 'followers_count': 0, 'friends_count': 0, 'listed_count': 0, 'created_at': 'Fri Mar 12 04:49:20 +0000 2021', 'favourites_count': 0, 'utc_offset': None, 'time_zone': None, 'geo_enabled': False, 'verified': False, 'statuses_count': 3, 'lang': None, 'contributors_enabled': False, 'is_translator': False, 'is_translation_enabled': False, 'profile_background_color': 'F5F8FA', 'profile_background_image_url': None, 'profile_background_image_url_https': None, 'profile_background_tile': False, 'profile_image_url': 'http://abs.twimg.com/sticky/default_profile_images/default_profile_normal.png', 'profile_image_url_https': 'https://abs.twimg.com/sticky/default_profile_images/default_profile_normal.png', 'profile_link_color': '1DA1F2', 'profile_sidebar_border_color': 'C0DEED', 'profile_sidebar_fill_color': 'DDEEF6', 'profile_text_color': '333333', 'profile_use_background_image': True, 'has_extended_profile': True, 'default_profile': True, 'default_profile_image': True, 'following': False, 'follow_request_sent': False, 'notifications': False, 'translator_type': 'none'}, id=1370235376275578885, id_str='1370235376275578885', name='QuakeFlow', screen_name='QuakeFlow_bot', location='', description='QuakeFlow Project', url=None, entities={'description': {'urls': []}}, protected=False, followers_count=0, friends_count=0, listed_count=0, created_at=datetime.datetime(2021, 3, 12, 4, 49, 20), favourites_count=0, utc_offset=None, time_zone=None, geo_enabled=False, verified=False, statuses_count=3, lang=None, contributors_enabled=False, is_translator=False, is_translation_enabled=False, profile_background_color='F5F8FA', profile_background_image_url=None, profile_background_image_url_https=None, profile_background_tile=False, profile_image_url='http://abs.twimg.com/sticky/default_profile_images/default_profile_normal.png', profile_image_url_https='https://abs.twimg.com/sticky/default_profile_images/default_profile_normal.png', profile_link_color='1DA1F2', profile_sidebar_border_color='C0DEED', profile_sidebar_fill_color='DDEEF6', profile_text_color='333333', profile_use_background_image=True, has_extended_profile=True, default_profile=True, default_profile_image=True, following=False, follow_request_sent=False, notifications=False, translator_type='none'), user=User(_api=<tweepy.api.API object at 0x7fb41c4d6550>, _json={'id': 1370235376275578885, 'id_str': '1370235376275578885', 'name': 'QuakeFlow', 'screen_name': 'QuakeFlow_bot', 'location': '', 'description': 'QuakeFlow Project', 'url': None, 'entities': {'description': {'urls': []}}, 'protected': False, 'followers_count': 0, 'friends_count': 0, 'listed_count': 0, 'created_at': 'Fri Mar 12 04:49:20 +0000 2021', 'favourites_count': 0, 'utc_offset': None, 'time_zone': None, 'geo_enabled': False, 'verified': False, 'statuses_count': 3, 'lang': None, 'contributors_enabled': False, 'is_translator': False, 'is_translation_enabled': False, 'profile_background_color': 'F5F8FA', 'profile_background_image_url': None, 'profile_background_image_url_https': None, 'profile_background_tile': False, 'profile_image_url': 'http://abs.twimg.com/sticky/default_profile_images/default_profile_normal.png', 'profile_image_url_https': 'https://abs.twimg.com/sticky/default_profile_images/default_profile_normal.png', 'profile_link_color': '1DA1F2', 'profile_sidebar_border_color': 'C0DEED', 'profile_sidebar_fill_color': 'DDEEF6', 'profile_text_color': '333333', 'profile_use_background_image': True, 'has_extended_profile': True, 'default_profile': True, 'default_profile_image': True, 'following': False, 'follow_request_sent': False, 'notifications': False, 'translator_type': 'none'}, id=1370235376275578885, id_str='1370235376275578885', name='QuakeFlow', screen_name='QuakeFlow_bot', location='', description='QuakeFlow Project', url=None, entities={'description': {'urls': []}}, protected=False, followers_count=0, friends_count=0, listed_count=0, created_at=datetime.datetime(2021, 3, 12, 4, 49, 20), favourites_count=0, utc_offset=None, time_zone=None, geo_enabled=False, verified=False, statuses_count=3, lang=None, contributors_enabled=False, is_translator=False, is_translation_enabled=False, profile_background_color='F5F8FA', profile_background_image_url=None, profile_background_image_url_https=None, profile_background_tile=False, profile_image_url='http://abs.twimg.com/sticky/default_profile_images/default_profile_normal.png', profile_image_url_https='https://abs.twimg.com/sticky/default_profile_images/default_profile_normal.png', profile_link_color='1DA1F2', profile_sidebar_border_color='C0DEED', profile_sidebar_fill_color='DDEEF6', profile_text_color='333333', profile_use_background_image=True, has_extended_profile=True, default_profile=True, default_profile_image=True, following=False, follow_request_sent=False, notifications=False, translator_type='none'), geo=None, coordinates=None, place=None, contributors=None, is_quote_status=False, retweet_count=0, favorite_count=0, favorited=False, retweeted=False, possibly_sensitive=False, lang='und')"
      ]
     },
     "execution_count": 11,
     "metadata": {},
     "output_type": "execute_result"
    }
   ],
   "source": [
    "api.update_with_media('quakeflow logo design 2.jpg')"
   ]
  },
  {
   "cell_type": "code",
   "execution_count": null,
   "id": "confused-instruction",
   "metadata": {},
   "outputs": [],
   "source": []
  }
 ],
 "metadata": {
  "kernelspec": {
   "display_name": "Python 3",
   "language": "python",
   "name": "python3"
  },
  "language_info": {
   "codemirror_mode": {
    "name": "ipython",
    "version": 3
   },
   "file_extension": ".py",
   "mimetype": "text/x-python",
   "name": "python",
   "nbconvert_exporter": "python",
   "pygments_lexer": "ipython3",
   "version": "3.7.10"
  }
 },
 "nbformat": 4,
 "nbformat_minor": 5
}
